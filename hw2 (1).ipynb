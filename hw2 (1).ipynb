{
  "nbformat": 4,
  "nbformat_minor": 0,
  "metadata": {
    "colab": {
      "provenance": []
    },
    "kernelspec": {
      "name": "python3",
      "display_name": "Python 3"
    },
    "language_info": {
      "name": "python"
    }
  },
  "cells": [
    {
      "cell_type": "code",
      "execution_count": null,
      "metadata": {
        "id": "t_SzgTYQHwiG"
      },
      "outputs": [],
      "source": [
        "import pandas as pd\n",
        "import numpy as np\n",
        "Data = pd.read_excel('/content/ENGLISH_VERSION_IsraelDemocracySurvey2021_with_changes (1).xlsx')"
      ]
    },
    {
      "cell_type": "code",
      "source": [
        "Clean_Data=Data.copy()"
      ],
      "metadata": {
        "id": "1GF71G9vIFIY"
      },
      "execution_count": null,
      "outputs": []
    },
    {
      "cell_type": "code",
      "source": [],
      "metadata": {
        "id": "sNO3bB6ue6Ez"
      },
      "execution_count": null,
      "outputs": []
    },
    {
      "cell_type": "code",
      "source": [
        "\n",
        "Clean_Data.loc[Clean_Data['(Arabs) Are you:'].isnull(),'sector']='Jewish'\n",
        "\n",
        "Clean_Data['sector'].head(10)"
      ],
      "metadata": {
        "id": "Ag7XVx5RYHtY"
      },
      "execution_count": null,
      "outputs": []
    },
    {
      "cell_type": "code",
      "source": [
        "\n",
        "Clean_Data.loc[Clean_Data['(Arabs) Are you:'].isnull() & (Clean_Data['sector'] == 'Jewish'), '(Arabs) Are you:'] = 'No Arabic'\n",
        "Clean_Data.loc[Clean_Data['(Arabs) Are you:'].isnull() & (Clean_Data['sector'] != 'Jewish'), '(Arabs) Are you:'] = 'Other'\n",
        "\n",
        "Clean_Data['(Arabs) Are you:'].head(10)"
      ],
      "metadata": {
        "id": "Tmc-P92-Ip0S"
      },
      "execution_count": null,
      "outputs": []
    },
    {
      "cell_type": "code",
      "source": [
        "MeanPerson = Clean_Data.groupby('What are you?')['How old are you?'].mean().tolist()\n",
        "MeanMale=MeanPerson[0]\n",
        "MeanFeamle=MeanPerson[1]\n",
        "Clean_Data.loc[Clean_Data['How old are you?'].isnull() & (Clean_Data['What are you?'] == 'Man'), 'How old are you?'] =MeanMale\n",
        "Clean_Data.loc[Clean_Data['How old are you?'].isnull() & (Clean_Data['What are you?'] == 'Woman'),'How old are you?'] =MeanFeamle\n",
        "\n",
        "Clean_Data['How old are you?'].head(10)"
      ],
      "metadata": {
        "id": "QAUa7ZUqId6q"
      },
      "execution_count": null,
      "outputs": []
    },
    {
      "cell_type": "code",
      "source": [
        "\n",
        "Clean_Data['Is immigrant']=1\n",
        "for row in Clean_Data.index:\n",
        "        if type(Clean_Data.loc [ row, 'year of immigration' ])==float:\n",
        "            Clean_Data.loc [ row, 'Is immigrant'] = 0\n",
        "\n",
        "Clean_Data.drop(['year of immigration'],axis=1,inplace=True)\n",
        "\n",
        "Clean_Data['Is immigrant'].head(10)"
      ],
      "metadata": {
        "id": "Dhe7WcnlPHsX"
      },
      "execution_count": null,
      "outputs": []
    },
    {
      "cell_type": "code",
      "source": [
        "for column in Clean_Data.columns:\n",
        "    if ('Do not know' or \"Don't know/refuse\" or \"Don't know/refuse to reply\" or 'Refuses to answer' or 'Refuses to reply') in Clean_Data[column].values:\n",
        "        new_column_name = column + ' - Do you know'\n",
        "        for i in range (0,Clean_Data.shape[0]):\n",
        "         if ('Do not know' or \"Don't know/refuse\" or \"Don't know/refuse to reply\" or 'Refuses to answer' or 'Refuses to reply') in Clean_Data.loc[i,column]:\n",
        "           Clean_Data.loc[i,new_column_name] =0\n",
        "         else:\n",
        "            Clean_Data.loc[i,new_column_name] =1\n",
        "\n",
        "\n",
        "Clean_Data.head(10)"
      ],
      "metadata": {
        "id": "oRrsrVzKdXQ3"
      },
      "execution_count": null,
      "outputs": []
    },
    {
      "cell_type": "markdown",
      "source": [
        "#Columns with binary values - Convert to 0/1"
      ],
      "metadata": {
        "id": "D1eCBe904TDq"
      }
    },
    {
      "cell_type": "code",
      "source": [
        "convertion_dictionary1 = {\"What are you?\": {'Woman':0,'Man':1}}\n",
        "convertion_dictionary2 = {\"sector\": {'Jewish':0,'Arabic':1}}\n",
        "convertion_dictionary3 = {\"source\": {'Internet':0,'Telephone':1}}\n",
        "Clean_Data = Clean_Data.replace(convertion_dictionary1)\n",
        "Clean_Data = Clean_Data.replace(convertion_dictionary2)\n",
        "Clean_Data = Clean_Data.replace(convertion_dictionary3)\n"
      ],
      "metadata": {
        "id": "s9Kr31RfQi5M"
      },
      "execution_count": null,
      "outputs": []
    },
    {
      "cell_type": "markdown",
      "source": [
        "#Categorical columns - Convert to dummy variables"
      ],
      "metadata": {
        "id": "Fqaiih_LgMXS"
      }
    },
    {
      "cell_type": "code",
      "source": [
        "Clean_Data = pd.get_dummies(Clean_Data,columns=['(To Jews) How do you religiously define yourself?'],dummy_na = True )\n",
        "Clean_Data = pd.get_dummies(Clean_Data,columns=['Which party vote in the last election for the Knesset (March 2021):'] )\n",
        "Clean_Data = pd.get_dummies(Clean_Data,columns=['district'] )\n",
        "Clean_Data = pd.get_dummies(Clean_Data,columns=['(Arabs) Are you:'] )\n",
        "Clean_Data = pd.get_dummies(Clean_Data,columns=['What stronger tension today in Israeli society? (Presented in rotation)'] )"
      ],
      "metadata": {
        "id": "xwbQ9kAiuK5R"
      },
      "execution_count": null,
      "outputs": []
    },
    {
      "cell_type": "markdown",
      "source": [
        "#Change ordinal columns to numbers"
      ],
      "metadata": {
        "id": "_b03Wa7F45Ay"
      }
    },
    {
      "cell_type": "code",
      "source": [
        "values_dict = {'Do not know' : 0, 'I have no trust at all': 1, \\\n",
        "               'I have pretty little trust' : 2, \\\n",
        "                'I have quite a lot of trust' : 3, 'I have full trust' : 4 }\n",
        "\n",
        "trust_list = ['How much you trust in each of these institutions: the media',\n",
        "              'How much you trust in each of these institutions: the Supreme Court',\n",
        "              'How much you trust in each of these institutions: the police',\n",
        "              'How much you trust in each of these institutions: President of the State',\n",
        "              'How much you trust in each of these institutions: the IDF',\n",
        "              'How much you trust in each of these institutions: the government',\n",
        "              'How much do you trust in each of these institutions: the parties',\n",
        "              'How much you trust in each of these institutions: the Kneset']\n",
        "\n",
        "for column in trust_list:\n",
        "    column_dict = {column : values_dict}\n",
        "    Clean_Data = Clean_Data.replace(column_dict)\n",
        "\n",
        "education = 'What is your formal education?'\n",
        "education_dict = { education : {'Refuses to answer' : 0, 'Sitting on a high school' : 1,\n",
        "                        'Part of partially high school, without a high school diploma' : 2,\n",
        "                        'Full high school, with a high school diploma' : 3,\n",
        "                        'Partial academic study, without a degree' : 4,\n",
        "                        'On middle ages (teacher seminar, nursing school, engineering school)' : 5,\n",
        "                        \"Full academic degree (bachelor's degree and above)\" : 6}}\n",
        "Clean_Data = Clean_Data.replace(education_dict)\n",
        "\n",
        "situation_dictionary = {\"What do you think of Israel's situation today?\":{'Do not know':0,'Very bad':1,'Bad':2,'So-so':3,'Are good':4,'Very good':5}}\n",
        "Clean_Data = Clean_Data.replace(situation_dictionary)\n",
        "rights_dictionary = {\"Do you agree or disagree that Israel should have more rights to Jewish citizens than non-Jewish citizens:\":{'Do not know':0,'Not at all agree':1,'Not so much agree':2,'Pretty much agreed':3,'Strongly agree':4}}\n",
        "Clean_Data = Clean_Data.replace(rights_dictionary)\n",
        "income_dictionary = {'The average (median) household income in Israel today is about NIS 16,000 gross. Is your total family income (of both spouses): [In a one-person household, the average salary for an individual is about NIS 8,000 gross]':{'Do not know':0,'Much below average':1,'Slightly below average':2,'As the average':3,'Slightly above average':4,'Well above average':5}}\n",
        "Clean_Data = Clean_Data.replace(income_dictionary)\n",
        "income_dictionary = {'In Israeli politics it is customary to talk about left and right. Where would you place yourself on a scale where 1 is left, 4 is center and 7 is right?':{\"Don't know/refuse to reply\":0,'1-left':1,'2':2,'3':3,'4-center':4,'5':5,'6':6,'7-right':7}}\n",
        "Clean_Data = Clean_Data.replace(income_dictionary)"
      ],
      "metadata": {
        "id": "scIzHwcoj8zH"
      },
      "execution_count": null,
      "outputs": []
    },
    {
      "cell_type": "code",
      "source": [
        "print(f\"Null values: {Clean_Data.isnull().sum().sum()}\")"
      ],
      "metadata": {
        "id": "nty9Kb5IejP_"
      },
      "execution_count": null,
      "outputs": []
    },
    {
      "cell_type": "code",
      "source": [
        "Clean_Data.to_excel('ENGLISH_VERSION_IsraelDemocracySurvey2021_AFTER CLEANING.xlsx')\n",
        "Clean_Data.info()"
      ],
      "metadata": {
        "id": "73hPNcxfcpMr"
      },
      "execution_count": null,
      "outputs": []
    }
  ]
}